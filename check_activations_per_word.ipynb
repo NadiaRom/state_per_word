{
 "cells": [
  {
   "cell_type": "code",
   "execution_count": 1,
   "metadata": {},
   "outputs": [],
   "source": [
    "from fastai.text import *\n",
    "from sqlalchemy import create_engine"
   ]
  },
  {
   "cell_type": "code",
   "execution_count": 2,
   "metadata": {},
   "outputs": [],
   "source": [
    "with open('psql_engine.txt') as f:\n",
    "    psql = create_engine(f.read())\n",
    "    \n",
    "with open('lm_gpu/data_ru/tmp/itos.pkl', 'rb') as fru, open('lm_gpu/data_uk/tmp/itos.pkl', 'rb') as fuk:\n",
    "    itos_ru = pickle.load(fru)\n",
    "    itos_uk = pickle.load(fuk)"
   ]
  },
  {
   "cell_type": "code",
   "execution_count": 3,
   "metadata": {},
   "outputs": [],
   "source": [
    "to_check = '688276, 1731042, 2463925, 2493020, 938827, 1809868, 2889683, 290087, 1598581'"
   ]
  },
  {
   "cell_type": "code",
   "execution_count": 4,
   "metadata": {},
   "outputs": [],
   "source": [
    "check_ids = pd.read_sql(f'''\n",
    "    select html_id, tokenized, headline_tok, word_ids, lang\n",
    "    from htmls\n",
    "    where html_id in ({to_check});\n",
    "    ''', psql)"
   ]
  },
  {
   "cell_type": "code",
   "execution_count": 5,
   "metadata": {},
   "outputs": [],
   "source": [
    "%%capture\n",
    "bptt,em_sz,nh,nl,c = 70,400,1150,3,2\n",
    "vs = len(itos_ru)\n",
    "# bs = 2\n",
    "\n",
    "sigm = lambda x: 1 / (1 + np.exp(-x))\n",
    "sigmv = np.vectorize(sigm)\n",
    "\n",
    "m_pred = get_rnn_classifer(bptt, 25*70, 2, vs,\n",
    "                           emb_sz=em_sz, n_hid=nh, n_layers=nl, pad_token=1,\n",
    "                           drops=[0,0],\n",
    "                           layers=[em_sz*3, 50, c])\n",
    "\n",
    "load_model(m_pred, 'classifiers/arg_2_mult_best54.h5')\n",
    "\n",
    "m_pred.cuda()\n",
    "m_pred.eval()"
   ]
  },
  {
   "cell_type": "code",
   "execution_count": 6,
   "metadata": {},
   "outputs": [],
   "source": [
    "ds_ru = TextDataset(check_ids.loc[check_ids.lang == 'ru'].word_ids.values, check_ids.loc[check_ids.lang == 'ru'].html_id.values)\n",
    "dl_ru = DataLoader(ds_ru, 24, transpose=True, num_workers=3, pad_idx=1)\n",
    "# pred = predict(m_pred, dl)\n",
    "# res = sigmv(pred)"
   ]
  },
  {
   "cell_type": "code",
   "execution_count": 27,
   "metadata": {},
   "outputs": [],
   "source": [
    "result = m_pred(V(next(iter(dl_ru))[0]))\n",
    "\n",
    "preds_ru = sigmv(result[0].data.cpu().numpy())\n",
    "ru_states = []\n",
    "for i in range(len(ds_ru)):\n",
    "    ru_states.append(result[-1][-1][:, i, :].data.cpu().numpy())\n",
    "    \n",
    "del result"
   ]
  },
  {
   "cell_type": "code",
   "execution_count": 36,
   "metadata": {},
   "outputs": [],
   "source": [
    "BOS = 'xbos'\n",
    "FLD = 'xbod'\n",
    "\n",
    "def split_tok(text):\n",
    "    return' \\n '.join([p.replace('\\n', f' {BOS} ')\n",
    "                       for p in text.strip().split('\\n\\n')]\n",
    "                     ).split(' ')"
   ]
  },
  {
   "cell_type": "code",
   "execution_count": 40,
   "metadata": {},
   "outputs": [],
   "source": [
    "splitted_ru = (f'\\n{BOS} {FLD} 1 ' + check_ids.loc[check_ids.lang == 'ru'].tokenized\n",
    "              ).apply(split_tok).values.tolist()"
   ]
  },
  {
   "cell_type": "code",
   "execution_count": 92,
   "metadata": {},
   "outputs": [],
   "source": [
    "states_of_news = {}\n",
    "for splited, states, preds, html_id in zip(splitted_ru, ru_states, preds_ru, ds_ru.y):\n",
    "    states_per_word = np.hstack([np.array(splited)[:, None], states[-len(splited):]]).tolist()\n",
    "    states_of_news[str(html_id)] = {\n",
    "        'states_per_word': states_per_word,\n",
    "        'pred_emo': preds[0],\n",
    "        'pred_arg': preds[1],\n",
    "    }\n",
    "    "
   ]
  },
  {
   "cell_type": "code",
   "execution_count": 93,
   "metadata": {},
   "outputs": [],
   "source": [
    "with open('ru_states_per_word.json', 'w') as f:\n",
    "    json.dump(states_of_news, f, ensure_ascii=False, allow_nan=False)"
   ]
  },
  {
   "cell_type": "code",
   "execution_count": null,
   "metadata": {},
   "outputs": [],
   "source": []
  }
 ],
 "metadata": {
  "kernelspec": {
   "display_name": "Python 3",
   "language": "python",
   "name": "python3"
  },
  "language_info": {
   "codemirror_mode": {
    "name": "ipython",
    "version": 3
   },
   "file_extension": ".py",
   "mimetype": "text/x-python",
   "name": "python",
   "nbconvert_exporter": "python",
   "pygments_lexer": "ipython3",
   "version": "3.6.6"
  },
  "toc": {
   "base_numbering": 1,
   "nav_menu": {},
   "number_sections": true,
   "sideBar": true,
   "skip_h1_title": false,
   "title_cell": "Table of Contents",
   "title_sidebar": "Contents",
   "toc_cell": false,
   "toc_position": {},
   "toc_section_display": true,
   "toc_window_display": false
  }
 },
 "nbformat": 4,
 "nbformat_minor": 2
}
