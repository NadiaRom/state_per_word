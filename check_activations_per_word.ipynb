{
 "cells": [
  {
   "cell_type": "code",
   "execution_count": 1,
   "metadata": {},
   "outputs": [],
   "source": [
    "from fastai.text import *\n",
    "from sqlalchemy import create_engine"
   ]
  },
  {
   "cell_type": "code",
   "execution_count": 2,
   "metadata": {},
   "outputs": [],
   "source": [
    "with open('psql_engine.txt') as f:\n",
    "    psql = create_engine(f.read())\n",
    "    \n",
    "with open('lm_gpu/data_ru/tmp/itos.pkl', 'rb') as fru, open('lm_gpu/data_uk/tmp/itos.pkl', 'rb') as fuk:\n",
    "    itos_ru = pickle.load(fru)\n",
    "    itos_uk = pickle.load(fuk)"
   ]
  },
  {
   "cell_type": "code",
   "execution_count": 3,
   "metadata": {},
   "outputs": [],
   "source": [
    "%%capture\n",
    "bptt,em_sz,nh,nl,c = 70,400,1150,3,2\n",
    "vs = len(itos_ru)\n",
    "bs = 2\n",
    "\n",
    "sigm = lambda x: 1 / (1 + np.exp(-x))\n",
    "sigmv = np.vectorize(sigm)\n",
    "\n",
    "m_pred = get_rnn_classifer(bptt, 25*70, 2, vs,\n",
    "                           emb_sz=em_sz, n_hid=nh, n_layers=nl, pad_token=1,\n",
    "                           drops=[0,0],\n",
    "                           layers=[em_sz*3, 50, c])\n",
    "\n",
    "load_model(m_pred, 'classifiers/arg_2_mult_best54.h5')\n",
    "\n",
    "m_pred.cuda()\n",
    "m_pred.eval()"
   ]
  },
  {
   "cell_type": "markdown",
   "metadata": {
    "heading_collapsed": true
   },
   "source": [
    "## each activation on small sample"
   ]
  },
  {
   "cell_type": "code",
   "execution_count": 59,
   "metadata": {
    "hidden": true
   },
   "outputs": [],
   "source": [
    "# html_ids\n",
    "\n",
    "to_check = '688276, 1731042, 2463925, 2493020, 938827, 1809868, 2889683, 290087, 1598581, 2495822, 2058441, 3019198'"
   ]
  },
  {
   "cell_type": "code",
   "execution_count": 60,
   "metadata": {
    "hidden": true
   },
   "outputs": [],
   "source": [
    "check_ids = pd.read_sql(f'''\n",
    "    select html_id, tokenized, ra_title, word_ids, lang\n",
    "    from htmls\n",
    "    where html_id in ({to_check});\n",
    "    ''', psql)"
   ]
  },
  {
   "cell_type": "code",
   "execution_count": 61,
   "metadata": {
    "hidden": true
   },
   "outputs": [],
   "source": [
    "ds_ru = TextDataset(check_ids.loc[check_ids.lang == 'ru'].word_ids.values, check_ids.loc[check_ids.lang == 'ru'].html_id.values)\n",
    "dl_ru = DataLoader(ds_ru, 24, transpose=True, num_workers=3, pad_idx=1)"
   ]
  },
  {
   "cell_type": "code",
   "execution_count": 8,
   "metadata": {
    "hidden": true
   },
   "outputs": [],
   "source": [
    "result = m_pred(V(next(iter(dl_ru))[0]))\n",
    "\n",
    "preds_ru = sigmv(result[0].data.cpu().numpy())\n",
    "ru_states = []\n",
    "for i in range(len(ds_ru)):\n",
    "    ru_states.append(result[-1][-1][:, i, :].data.cpu().numpy())\n",
    "    \n",
    "del result"
   ]
  },
  {
   "cell_type": "code",
   "execution_count": 9,
   "metadata": {
    "hidden": true
   },
   "outputs": [],
   "source": [
    "BOS = 'xbos'\n",
    "FLD = 'xbod'\n",
    "\n",
    "def split_tok(text):\n",
    "    return' \\n '.join([p.replace('\\n', f' {BOS} ')\n",
    "                       for p in text.strip().split('\\n\\n')]\n",
    "                     ).split(' ')"
   ]
  },
  {
   "cell_type": "code",
   "execution_count": 10,
   "metadata": {
    "hidden": true
   },
   "outputs": [],
   "source": [
    "splitted_ru = (f'\\n{BOS} {FLD} 1 ' + check_ids.loc[check_ids.lang == 'ru'].tokenized\n",
    "              ).apply(split_tok).values.tolist()"
   ]
  },
  {
   "cell_type": "code",
   "execution_count": 11,
   "metadata": {
    "hidden": true
   },
   "outputs": [],
   "source": [
    "states_of_news = {}\n",
    "for splited, states, preds, html_id in zip(splitted_ru, ru_states, preds_ru, ds_ru.y):\n",
    "    states_per_word = np.hstack([np.array(splited)[:, None], states[-len(splited):]]).tolist()\n",
    "    states_of_news[str(html_id)] = {\n",
    "        'states_per_word': states_per_word,\n",
    "        'pred_emo': preds[0],\n",
    "        'pred_arg': preds[1],\n",
    "    }\n",
    "    "
   ]
  },
  {
   "cell_type": "code",
   "execution_count": 19,
   "metadata": {
    "hidden": true
   },
   "outputs": [],
   "source": [
    "for k, v in states_of_news.items():\n",
    "    with open(f'states_data/{k}.json', 'w') as f:\n",
    "        json.dump(v, f, ensure_ascii=False, allow_nan=False)"
   ]
  },
  {
   "cell_type": "code",
   "execution_count": 28,
   "metadata": {
    "hidden": true
   },
   "outputs": [],
   "source": [
    "check_ids.loc[check_ids.lang == 'ru', ['html_id', 'ra_title']\n",
    "             ].to_json('states_data/file_index.json', orient='records', force_ascii=False)"
   ]
  },
  {
   "cell_type": "markdown",
   "metadata": {},
   "source": [
    "## Regression to find LM vector weights"
   ]
  },
  {
   "cell_type": "code",
   "execution_count": 4,
   "metadata": {},
   "outputs": [],
   "source": [
    "ru_ann = pd.read_csv('ru_annotation.csv')\n",
    "ru_ann = ru_ann.loc[ru_ann.is_other == 0].copy().drop(['is_other'], axis=1)\n",
    "ru_ids = ', '.join(ru_ann.html_id.astype(str).values)\n",
    "\n",
    "ru_ann = ru_ann.merge(pd.read_sql(f'''\n",
    "    select html_id, word_ids\n",
    "    from htmls\n",
    "    where html_id in ({ru_ids})\n",
    "      and word_ids notnull\n",
    "    ''', psql), on='html_id', how='inner')\n",
    "\n",
    "ru_ann = ru_ann.loc[ru_ann.word_ids.apply(lambda l: len(l) < 1200)].copy()\n",
    "del ru_ids"
   ]
  },
  {
   "cell_type": "code",
   "execution_count": 5,
   "metadata": {},
   "outputs": [],
   "source": [
    "ds_ru = TextDataset(ru_ann.word_ids.values, ru_ann.html_id.values)\n",
    "dl_ru = DataLoader(ds_ru, bs, transpose=True, num_workers=3, pad_idx=1)"
   ]
  },
  {
   "cell_type": "code",
   "execution_count": 6,
   "metadata": {},
   "outputs": [
    {
     "name": "stdout",
     "output_type": "stream",
     "text": [
      "100%|██████████| 2977/2977 [15:53<00:00,  3.91it/s]\n"
     ]
    }
   ],
   "source": [
    "def pool(x, bs, is_max):\n",
    "    f = F.adaptive_max_pool1d if is_max else F.adaptive_avg_pool1d\n",
    "    return f(x.permute(1,2,0), (1,)).view(bs,-1)\n",
    "\n",
    "final_outputs = {}\n",
    "for x, y in tqdm(dl_ru):\n",
    "    m_pred.eval()\n",
    "    m_pred.reset()\n",
    "    output = m_pred[0](V(x))[-1][-1]\n",
    "    avgpool = pool(output, bs, False)\n",
    "    mxpool = pool(output, bs, True)\n",
    "    x = torch.cat([output[-1], mxpool, avgpool], 1).data.cpu().numpy()\n",
    "    y = y.cpu().numpy()\n",
    "    final_outputs = {**final_outputs, **dict(zip(y, x))}"
   ]
  },
  {
   "cell_type": "code",
   "execution_count": 7,
   "metadata": {},
   "outputs": [],
   "source": [
    "ru_ann['pred_vec'] = ru_ann.html_id.apply(lambda i: final_outputs[i])"
   ]
  },
  {
   "cell_type": "code",
   "execution_count": 8,
   "metadata": {},
   "outputs": [],
   "source": [
    "ru_ann.to_json('ru_ann_states.jl', lines=True, orient=ent='records')"
   ]
  },
  {
   "cell_type": "code",
   "execution_count": 9,
   "metadata": {},
   "outputs": [],
   "source": [
    "ru_ann_trn = ru_ann.loc[ru_ann.trn_val == 'trn'].copy().drop('trn_val', axis=1)\n",
    "ru_ann_val = ru_ann.loc[ru_ann.trn_val == 'val'].copy().drop('trn_val', axis=1)"
   ]
  },
  {
   "cell_type": "markdown",
   "metadata": {},
   "source": [
    "### lr"
   ]
  },
  {
   "cell_type": "code",
   "execution_count": 43,
   "metadata": {},
   "outputs": [],
   "source": [
    "from sklearn.linear_model import SGDClassifier\n",
    "from sklearn.metrics import *"
   ]
  },
  {
   "cell_type": "markdown",
   "metadata": {},
   "source": [
    "#### On concat pulled vector"
   ]
  },
  {
   "cell_type": "code",
   "execution_count": 44,
   "metadata": {},
   "outputs": [],
   "source": [
    "lr_emo = SGDClassifier(loss='log', penalty='l1', alpha=0.001, verbose=True)\n",
    "lr_arg = SGDClassifier(loss='log', penalty='l1', alpha=0.001, verbose=True)"
   ]
  },
  {
   "cell_type": "code",
   "execution_count": 45,
   "metadata": {},
   "outputs": [
    {
     "name": "stderr",
     "output_type": "stream",
     "text": [
      "/home/nadiiaromanenko/anaconda3/envs/fastai/lib/python3.6/site-packages/sklearn/linear_model/stochastic_gradient.py:166: FutureWarning: max_iter and tol parameters have been added in SGDClassifier in 0.19. If both are left unset, they default to max_iter=5 and tol=None. If tol is not None, max_iter defaults to max_iter=1000. From 0.21, default max_iter will be 1000, and default tol will be 1e-3.\n",
      "  FutureWarning)\n"
     ]
    },
    {
     "name": "stdout",
     "output_type": "stream",
     "text": [
      "-- Epoch 1\n",
      "Norm: 155.04, NNZs: 239, Bias: -2.791472, T: 4742, Avg. loss: 4.436486\n",
      "Total training time: 0.08 seconds.\n",
      "-- Epoch 2\n",
      "Norm: 155.32, NNZs: 170, Bias: -1.468586, T: 9484, Avg. loss: 0.766981\n",
      "Total training time: 0.16 seconds.\n",
      "-- Epoch 3\n",
      "Norm: 155.54, NNZs: 137, Bias: -1.508049, T: 14226, Avg. loss: 0.533877\n",
      "Total training time: 0.23 seconds.\n",
      "-- Epoch 4\n",
      "Norm: 155.73, NNZs: 121, Bias: -0.791440, T: 18968, Avg. loss: 0.463189\n",
      "Total training time: 0.31 seconds.\n",
      "-- Epoch 5\n",
      "Norm: 155.89, NNZs: 108, Bias: -0.697880, T: 23710, Avg. loss: 0.437990\n",
      "Total training time: 0.38 seconds.\n"
     ]
    },
    {
     "name": "stderr",
     "output_type": "stream",
     "text": [
      "/home/nadiiaromanenko/anaconda3/envs/fastai/lib/python3.6/site-packages/sklearn/linear_model/stochastic_gradient.py:166: FutureWarning: max_iter and tol parameters have been added in SGDClassifier in 0.19. If both are left unset, they default to max_iter=5 and tol=None. If tol is not None, max_iter defaults to max_iter=1000. From 0.21, default max_iter will be 1000, and default tol will be 1e-3.\n",
      "  FutureWarning)\n"
     ]
    },
    {
     "name": "stdout",
     "output_type": "stream",
     "text": [
      "-- Epoch 1\n",
      "Norm: 105.49, NNZs: 71, Bias: -0.996859, T: 4742, Avg. loss: 1.123768\n",
      "Total training time: 0.08 seconds.\n",
      "-- Epoch 2\n",
      "Norm: 106.52, NNZs: 47, Bias: -1.586417, T: 9484, Avg. loss: 0.190481\n",
      "Total training time: 0.15 seconds.\n",
      "-- Epoch 3\n",
      "Norm: 106.90, NNZs: 38, Bias: -2.217896, T: 14226, Avg. loss: 0.172096\n",
      "Total training time: 0.22 seconds.\n",
      "-- Epoch 4\n",
      "Norm: 107.12, NNZs: 36, Bias: -2.498441, T: 18968, Avg. loss: 0.168513\n",
      "Total training time: 0.29 seconds.\n",
      "-- Epoch 5\n",
      "Norm: 107.26, NNZs: 34, Bias: -2.528608, T: 23710, Avg. loss: 0.168448\n",
      "Total training time: 0.37 seconds.\n"
     ]
    },
    {
     "data": {
      "text/plain": [
       "SGDClassifier(alpha=0.001, average=False, class_weight=None,\n",
       "       early_stopping=False, epsilon=0.1, eta0=0.0, fit_intercept=True,\n",
       "       l1_ratio=0.15, learning_rate='optimal', loss='log', max_iter=None,\n",
       "       n_iter=None, n_iter_no_change=5, n_jobs=None, penalty='l1',\n",
       "       power_t=0.5, random_state=None, shuffle=True, tol=None,\n",
       "       validation_fraction=0.1, verbose=True, warm_start=False)"
      ]
     },
     "execution_count": 45,
     "metadata": {},
     "output_type": "execute_result"
    }
   ],
   "source": [
    "lr_emo.fit(np.vstack(ru_ann_trn.pred_vec.values), ru_ann_trn.is_emo)\n",
    "lr_arg.fit(np.vstack(ru_ann_trn.pred_vec.values), ru_ann_trn.is_arg)"
   ]
  },
  {
   "cell_type": "code",
   "execution_count": 48,
   "metadata": {},
   "outputs": [
    {
     "name": "stdout",
     "output_type": "stream",
     "text": [
      "EMO\n",
      "              precision    recall  f1-score   support\n",
      "\n",
      "           1       0.32      0.79      0.45       164\n",
      "           0       0.96      0.74      0.83      1048\n",
      "\n",
      "   micro avg       0.74      0.74      0.74      1212\n",
      "   macro avg       0.64      0.76      0.64      1212\n",
      "weighted avg       0.87      0.74      0.78      1212\n",
      "\n",
      "[[0.78659 0.21341]\n",
      " [0.26431 0.73569]]\n",
      "[[129  35]\n",
      " [277 771]]\n",
      "ARG\n",
      "              precision    recall  f1-score   support\n",
      "\n",
      "           1       0.28      0.67      0.39       203\n",
      "           0       0.91      0.65      0.76      1009\n",
      "\n",
      "   micro avg       0.66      0.66      0.66      1212\n",
      "   macro avg       0.59      0.66      0.58      1212\n",
      "weighted avg       0.80      0.66      0.70      1212\n",
      "\n",
      "[[0.66502 0.33498]\n",
      " [0.34589 0.65411]]\n",
      "[[135  68]\n",
      " [349 660]]\n"
     ]
    }
   ],
   "source": [
    "emo_params = dict(\n",
    "    y_pred=lr_emo.predict(np.vstack(ru_ann_val.pred_vec.values)),\n",
    "    y_true=ru_ann_val.is_emo,\n",
    "    labels=[1,0]\n",
    ")\n",
    "\n",
    "arg_params = dict(\n",
    "    y_pred=lr_arg.predict_proba(np.vstack(ru_ann_val.pred_vec.values))[:, 1] > 0.05,\n",
    "    y_true=ru_ann_val.is_arg,\n",
    "    labels=[1,0]\n",
    ")\n",
    "\n",
    "def print_metrics(params, s):\n",
    "    print(s)\n",
    "    print(classification_report(**params))\n",
    "    cm = confusion_matrix(**params)\n",
    "    print(cm / cm.sum(1)[:, None])\n",
    "    print(cm)\n",
    "    \n",
    "print_metrics(emo_params, 'EMO')\n",
    "print_metrics(arg_params, 'ARG')"
   ]
  },
  {
   "cell_type": "code",
   "execution_count": 49,
   "metadata": {},
   "outputs": [
    {
     "data": {
      "image/png": "[encoded data removed]",
      "text/plain": [
       "<Figure size 576x432 with 1 Axes>"
      ]
     },
     "metadata": {
      "needs_background": "light"
     },
     "output_type": "display_data"
    }
   ],
   "source": [
    "plt.figure(figsize=(8,6))\n",
    "plt.tick_params(axis='both', which='major', labelsize=12)\n",
    "plt.plot(range(1200), lr_emo.coef_.T)\n",
    "for i, c in enumerate(lr_emo.coef_.T):\n",
    "    if abs(c) > 1.5:\n",
    "        plt.text(i, c, f'{i % 400}')\n",
    "plt.xlabel('Neuron (Feature) Index', size=12)\n",
    "plt.ylabel('Neuron (Feature) weight', size=12)\n",
    "plt.title('EMO')\n",
    "plt.show()"
   ]
  },
  {
   "cell_type": "code",
   "execution_count": 50,
   "metadata": {},
   "outputs": [
    {
     "data": {
      "image/png": "[encoded data removed]",
      "text/plain": [
       "<Figure size 576x432 with 1 Axes>"
      ]
     },
     "metadata": {
      "needs_background": "light"
     },
     "output_type": "display_data"
    }
   ],
   "source": [
    "plt.figure(figsize=(8,6))\n",
    "plt.tick_params(axis='both', which='major', labelsize=12)\n",
    "plt.plot(range(1200), lr_arg.coef_.T)\n",
    "for i, c in enumerate(lr_arg.coef_.T):\n",
    "    if abs(c) > 1.5:\n",
    "        plt.text(i, c, f'{i % 400}')\n",
    "plt.xlabel('Neuron (Feature) Index', size=12)\n",
    "plt.ylabel('Neuron (Feature) weight', size=12)\n",
    "plt.title('ARG')\n",
    "plt.show()"
   ]
  },
  {
   "cell_type": "markdown",
   "metadata": {},
   "source": [
    "#### on last state only"
   ]
  },
  {
   "cell_type": "code",
   "execution_count": 51,
   "metadata": {},
   "outputs": [
    {
     "name": "stderr",
     "output_type": "stream",
     "text": [
      "/home/nadiiaromanenko/anaconda3/envs/fastai/lib/python3.6/site-packages/sklearn/linear_model/stochastic_gradient.py:166: FutureWarning: max_iter and tol parameters have been added in SGDClassifier in 0.19. If both are left unset, they default to max_iter=5 and tol=None. If tol is not None, max_iter defaults to max_iter=1000. From 0.21, default max_iter will be 1000, and default tol will be 1e-3.\n",
      "  FutureWarning)\n",
      "/home/nadiiaromanenko/anaconda3/envs/fastai/lib/python3.6/site-packages/sklearn/linear_model/stochastic_gradient.py:166: FutureWarning: max_iter and tol parameters have been added in SGDClassifier in 0.19. If both are left unset, they default to max_iter=5 and tol=None. If tol is not None, max_iter defaults to max_iter=1000. From 0.21, default max_iter will be 1000, and default tol will be 1e-3.\n",
      "  FutureWarning)\n"
     ]
    },
    {
     "name": "stdout",
     "output_type": "stream",
     "text": [
      "-- Epoch 1\n",
      "Norm: 38.38, NNZs: 44, Bias: -0.636732, T: 4742, Avg. loss: 0.552576\n",
      "Total training time: 0.03 seconds.\n",
      "-- Epoch 2\n",
      "Norm: 39.34, NNZs: 41, Bias: -0.832773, T: 9484, Avg. loss: 0.496599\n",
      "Total training time: 0.06 seconds.\n",
      "-- Epoch 3\n",
      "Norm: 39.79, NNZs: 38, Bias: -0.728452, T: 14226, Avg. loss: 0.491879\n",
      "Total training time: 0.09 seconds.\n",
      "-- Epoch 4\n",
      "Norm: 40.09, NNZs: 38, Bias: -0.800479, T: 18968, Avg. loss: 0.490515\n",
      "Total training time: 0.12 seconds.\n",
      "-- Epoch 5\n",
      "Norm: 40.32, NNZs: 38, Bias: -0.659575, T: 23710, Avg. loss: 0.489373\n",
      "Total training time: 0.15 seconds.\n",
      "-- Epoch 1\n",
      "Norm: 24.15, NNZs: 12, Bias: -3.529294, T: 4742, Avg. loss: 0.211170\n",
      "Total training time: 0.03 seconds.\n",
      "-- Epoch 2\n",
      "Norm: 24.56, NNZs: 10, Bias: -2.777162, T: 9484, Avg. loss: 0.196459\n",
      "Total training time: 0.06 seconds.\n",
      "-- Epoch 3\n",
      "Norm: 24.77, NNZs: 9, Bias: -3.163108, T: 14226, Avg. loss: 0.195126\n",
      "Total training time: 0.09 seconds.\n",
      "-- Epoch 4\n",
      "Norm: 24.91, NNZs: 8, Bias: -2.987866, T: 18968, Avg. loss: 0.194514\n",
      "Total training time: 0.12 seconds.\n",
      "-- Epoch 5\n",
      "Norm: 25.00, NNZs: 8, Bias: -3.231709, T: 23710, Avg. loss: 0.193990\n",
      "Total training time: 0.15 seconds.\n"
     ]
    },
    {
     "data": {
      "text/plain": [
       "SGDClassifier(alpha=0.001, average=False, class_weight=None,\n",
       "       early_stopping=False, epsilon=0.1, eta0=0.0, fit_intercept=True,\n",
       "       l1_ratio=0.15, learning_rate='optimal', loss='log', max_iter=None,\n",
       "       n_iter=None, n_iter_no_change=5, n_jobs=None, penalty='l1',\n",
       "       power_t=0.5, random_state=None, shuffle=True, tol=None,\n",
       "       validation_fraction=0.1, verbose=True, warm_start=False)"
      ]
     },
     "execution_count": 51,
     "metadata": {},
     "output_type": "execute_result"
    }
   ],
   "source": [
    "lr_emo = SGDClassifier(loss='log', penalty='l1', alpha=0.001, verbose=True)\n",
    "lr_arg = SGDClassifier(loss='log', penalty='l1', alpha=0.001, verbose=True)\n",
    "\n",
    "lr_emo.fit(np.vstack(ru_ann_trn.pred_vec.values)[:, :400], ru_ann_trn.is_emo)\n",
    "lr_arg.fit(np.vstack(ru_ann_trn.pred_vec.values)[:, :400], ru_ann_trn.is_arg)"
   ]
  },
  {
   "cell_type": "code",
   "execution_count": 54,
   "metadata": {},
   "outputs": [
    {
     "name": "stdout",
     "output_type": "stream",
     "text": [
      "EMO\n",
      "              precision    recall  f1-score   support\n",
      "\n",
      "           1       0.41      0.46      0.43       164\n",
      "           0       0.91      0.89      0.90      1048\n",
      "\n",
      "   micro avg       0.84      0.84      0.84      1212\n",
      "   macro avg       0.66      0.68      0.67      1212\n",
      "weighted avg       0.85      0.84      0.84      1212\n",
      "\n",
      "[[0.46341 0.53659]\n",
      " [0.10592 0.89408]]\n",
      "[[ 76  88]\n",
      " [111 937]]\n",
      "ARG\n",
      "              precision    recall  f1-score   support\n",
      "\n",
      "           1       0.56      0.02      0.05       203\n",
      "           0       0.84      1.00      0.91      1009\n",
      "\n",
      "   micro avg       0.83      0.83      0.83      1212\n",
      "   macro avg       0.70      0.51      0.48      1212\n",
      "weighted avg       0.79      0.83      0.76      1212\n",
      "\n",
      "[[0.02463 0.97537]\n",
      " [0.00396 0.99604]]\n",
      "[[   5  198]\n",
      " [   4 1005]]\n"
     ]
    }
   ],
   "source": [
    "emo_params = dict(\n",
    "    y_pred=lr_emo.predict(np.vstack(ru_ann_val.pred_vec.values)[:, :400]),\n",
    "    y_true=ru_ann_val.is_emo,\n",
    "    labels=[1,0]\n",
    ")\n",
    "\n",
    "arg_params = dict(\n",
    "    y_pred=lr_arg.predict_proba(np.vstack(ru_ann_val.pred_vec.values)[:, :400])[:, 1] > 0.1,\n",
    "    y_true=ru_ann_val.is_arg,\n",
    "    labels=[1,0]\n",
    ")\n",
    "\n",
    "def print_metrics(params, s):\n",
    "    print(s)\n",
    "    print(classification_report(**params))\n",
    "    cm = confusion_matrix(**params)\n",
    "    print(cm / cm.sum(1)[:, None])\n",
    "    print(cm)\n",
    "    \n",
    "print_metrics(emo_params, 'EMO')\n",
    "print_metrics(arg_params, 'ARG')"
   ]
  },
  {
   "cell_type": "code",
   "execution_count": 53,
   "metadata": {},
   "outputs": [
    {
     "data": {
      "image/png": "[encoded data removed]",
      "text/plain": [
       "<Figure size 576x432 with 1 Axes>"
      ]
     },
     "metadata": {
      "needs_background": "light"
     },
     "output_type": "display_data"
    }
   ],
   "source": [
    "plt.figure(figsize=(8,6))\n",
    "plt.tick_params(axis='both', which='major', labelsize=12)\n",
    "plt.plot(range(400), lr_emo.coef_.T)\n",
    "for i, c in enumerate(lr_emo.coef_.T):\n",
    "    if abs(c) > 1.5:\n",
    "        plt.text(i, c, f'{i % 400}')\n",
    "plt.xlabel('Neuron (Feature) Index', size=12)\n",
    "plt.ylabel('Neuron (Feature) weight', size=12)\n",
    "plt.title('EMO')\n",
    "plt.show()"
   ]
  },
  {
   "cell_type": "code",
   "execution_count": 56,
   "metadata": {},
   "outputs": [
    {
     "data": {
      "image/png": "[encoded data removed]",
      "text/plain": [
       "<Figure size 576x432 with 1 Axes>"
      ]
     },
     "metadata": {
      "needs_background": "light"
     },
     "output_type": "display_data"
    }
   ],
   "source": [
    "plt.figure(figsize=(8,6))\n",
    "plt.tick_params(axis='both', which='major', labelsize=12)\n",
    "plt.plot(range(400), lr_arg.coef_.T)\n",
    "for i, c in enumerate(lr_arg.coef_.T):\n",
    "    if abs(c) > 1.5:\n",
    "        plt.text(i, c, f'{i % 400}')\n",
    "plt.xlabel('Neuron (Feature) Index', size=12)\n",
    "plt.ylabel('Neuron (Feature) weight', size=12)\n",
    "plt.title('ARG')\n",
    "plt.show()"
   ]
  },
  {
   "cell_type": "code",
   "execution_count": null,
   "metadata": {},
   "outputs": [],
   "source": []
  }
 ],
 "metadata": {
  "kernelspec": {
   "display_name": "Python 3",
   "language": "python",
   "name": "python3"
  },
  "language_info": {
   "codemirror_mode": {
    "name": "ipython",
    "version": 3
   },
   "file_extension": ".py",
   "mimetype": "text/x-python",
   "name": "python",
   "nbconvert_exporter": "python",
   "pygments_lexer": "ipython3",
   "version": "3.6.6"
  },
  "toc": {
   "base_numbering": 1,
   "nav_menu": {},
   "number_sections": true,
   "sideBar": true,
   "skip_h1_title": false,
   "title_cell": "Table of Contents",
   "title_sidebar": "Contents",
   "toc_cell": false,
   "toc_position": {},
   "toc_section_display": true,
   "toc_window_display": false
  }
 },
 "nbformat": 4,
 "nbformat_minor": 2
}
